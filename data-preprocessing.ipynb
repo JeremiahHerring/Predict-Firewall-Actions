{
 "cells": [
  {
   "cell_type": "markdown",
   "id": "5c328300-dca9-40f3-8bd3-a290e1220b0d",
   "metadata": {},
   "source": [
    "Setup"
   ]
  },
  {
   "cell_type": "code",
   "execution_count": null,
   "id": "4a91229c-cc25-4f6d-8a16-9216fd385ac8",
   "metadata": {},
   "outputs": [],
   "source": [
    "# Python ≥3.5 is required\n",
    "import sys\n",
    "assert sys.version_info >= (3, 5)\n",
    "\n",
    "# Scikit-Learn ≥0.20 is required\n",
    "import sklearn\n",
    "assert sklearn.__version__ >= \"0.20\"\n",
    "\n",
    "# Common imports\n",
    "import numpy as np\n",
    "import os\n",
    "\n",
    "import seaborn as sns\n",
    "from scipy import stats\n",
    "\n",
    "# To plot pretty figures\n",
    "%matplotlib inline\n",
    "import matplotlib as mpl\n",
    "import matplotlib.pyplot as plt\n",
    "mpl.rc('axes', labelsize=14)\n",
    "mpl.rc('xtick', labelsize=12)\n",
    "mpl.rc('ytick', labelsize=12)\n",
    "\n",
    "# Where to save the figures\n",
    "PROJECT_ROOT_DIR = \".\"\n",
    "CHAPTER_ID = \"ml-predict-firewall-actions\"\n",
    "IMAGES_PATH = os.path.join(PROJECT_ROOT_DIR, \"images\", CHAPTER_ID)\n",
    "os.makedirs(IMAGES_PATH, exist_ok=True)\n",
    "\n",
    "def save_fig(fig_id, tight_layout=True, fig_extension=\"png\", resolution=300):\n",
    "    path = os.path.join(IMAGES_PATH, fig_id + \".\" + fig_extension)\n",
    "    print(\"Saving figure\", fig_id)\n",
    "    if tight_layout:\n",
    "        plt.tight_layout()\n",
    "    plt.savefig(path, format=fig_extension, dpi=resolution)"
   ]
  },
  {
   "cell_type": "markdown",
   "id": "14fb3666-60e2-4519-9c08-b321319f9009",
   "metadata": {},
   "source": [
    "Preview unedited data set"
   ]
  },
  {
   "cell_type": "code",
   "execution_count": null,
   "id": "f1757618-1cdc-4603-ac87-a8b47009483b",
   "metadata": {},
   "outputs": [],
   "source": [
    "import pandas as pd\n",
    "\n",
    "internet_data = pd.read_csv('internet-firewall-data.csv')\n",
    "\n",
    "internet_data"
   ]
  },
  {
   "cell_type": "markdown",
   "id": "c1001867-a951-438b-8d29-5ec3928af1b6",
   "metadata": {},
   "source": [
    "Move 'Action' column to last column"
   ]
  },
  {
   "cell_type": "code",
   "execution_count": null,
   "id": "b0c9e022-05fc-4b16-9777-68e9f999926f",
   "metadata": {},
   "outputs": [],
   "source": [
    "column_to_move = 'Action'\n",
    "\n",
    "new_column_order = [col for col in internet_data.columns if col != column_to_move] + [column_to_move]\n",
    "\n",
    "internet_data = internet_data[new_column_order]\n",
    "internet_data2 = internet_data # copy for correlation matrix later"
   ]
  },
  {
   "cell_type": "markdown",
   "id": "9b79db0a",
   "metadata": {},
   "source": [
    "Rename columns to have consistant format"
   ]
  },
  {
   "cell_type": "code",
   "execution_count": null,
   "id": "58340c58",
   "metadata": {},
   "outputs": [],
   "source": [
    "internet_data.rename(columns={'pkts_sent': 'Packets Sent', 'pkts_received': 'Packets Received'}, inplace=True)\n",
    "\n",
    "internet_data"
   ]
  },
  {
   "cell_type": "markdown",
   "id": "9760b2a2-688c-4e20-ae53-c3697014a6c6",
   "metadata": {},
   "source": [
    "We considered combining features but we already have the optimal amount of features for our data; combining features would result in lower accuracy."
   ]
  },
  {
   "cell_type": "markdown",
   "id": "802b10aa-45fe-440e-93bc-f29e4a5d25e5",
   "metadata": {},
   "source": [
    "Discover and Visualize the data to gain insights"
   ]
  },
  {
   "cell_type": "code",
   "execution_count": null,
   "id": "57bcc291-6914-4d89-883b-6e098a0f2b0a",
   "metadata": {},
   "outputs": [],
   "source": [
    "internet_data.info()"
   ]
  },
  {
   "cell_type": "markdown",
   "id": "fb391243-84f7-4ff7-a274-3d1b6c4911c9",
   "metadata": {},
   "source": [
    "Based on our dataset info, there are no missing values that we need to consider."
   ]
  },
  {
   "cell_type": "code",
   "execution_count": null,
   "id": "dd2202ec-b2c9-4db9-8978-399536f1e064",
   "metadata": {},
   "outputs": [],
   "source": [
    "internet_data[\"Action\"].value_counts()"
   ]
  },
  {
   "cell_type": "code",
   "execution_count": null,
   "id": "f4962378-24b5-47ce-a519-41a5f58299c8",
   "metadata": {},
   "outputs": [],
   "source": [
    "internet_data.describe()"
   ]
  },
  {
   "cell_type": "code",
   "execution_count": null,
   "id": "07aa4bc0-d479-4d17-8345-4988c72ff548",
   "metadata": {},
   "outputs": [],
   "source": [
    "sns.set(style=\"whitegrid\")\n",
    "\n",
    "# Plot 1: Bytes Sent vs Bytes Received\n",
    "plt.figure(figsize=(10, 6))\n",
    "plt.title(\"Bytes Sent vs Bytes Received\")\n",
    "plt.xlabel(\"Bytes Sent\")\n",
    "plt.ylabel(\"Bytes Received\")\n",
    "plot = sns.scatterplot(x=\"Bytes Sent\", y=\"Bytes Received\", data=internet_data, hue=\"Action\")\n",
    "plot.set(ylim=(0, 80000000))\n",
    "plot.set(xlim=(0, 500000))\n",
    "plt.show()\n",
    "\n",
    "# Plot 2: Elapsed Time (sec) vs Packets\n",
    "plt.figure(figsize=(10, 6))\n",
    "plt.title(\"Elapsed Time vs Number of Packets\")\n",
    "plt.xlabel(\"Elapsed Time (sec)\")\n",
    "plt.ylabel(\"Number of Packets\")\n",
    "plot = sns.scatterplot(x=\"Elapsed Time (sec)\", y=\"Packets\", data=internet_data, hue=\"Action\")\n",
    "plot.set(ylim=(0, 100000))\n",
    "plt.show()\n",
    "\n",
    "# Plot 3: Packet Sent vs Packet Received\n",
    "plt.figure(figsize=(10, 6))\n",
    "plt.title(\"Packets Sent vs Packets Received\")\n",
    "plt.xlabel(\"Packets Sent\")\n",
    "plt.ylabel(\"Packets Received\")\n",
    "plot = sns.scatterplot(x=\"Packets Sent\", y=\"Packets Sent\", data=internet_data, hue=\"Action\")\n",
    "plot.set(ylim=(0, 50000))\n",
    "plot.set(xlim=(0, 20000))\n",
    "plt.show()"
   ]
  },
  {
   "cell_type": "markdown",
   "id": "6eb780f8",
   "metadata": {},
   "source": [
    "Use Label Encoding to convert the 'Action' feature from categorical to numerical"
   ]
  },
  {
   "cell_type": "code",
   "execution_count": null,
   "id": "5c493c8e-c936-42d5-9dc3-67730622d89c",
   "metadata": {},
   "outputs": [],
   "source": [
    "internet_data['Action'] = internet_data['Action'].astype('category').cat.codes\n",
    "\n",
    "# Calculate Pearson correlation\n",
    "correlation_matrix1 = internet_data.corr(method='pearson')\n",
    "correlation_matrix1"
   ]
  },
  {
   "cell_type": "code",
   "execution_count": null,
   "id": "b692f899-a4f3-4af0-a793-e45ef6fdb621",
   "metadata": {},
   "outputs": [],
   "source": [
    "internet_data_label_encoding = internet_data.copy()\n",
    "internet_data_label_encoding.to_csv('internet_data_label_encoding.csv', index=False)\n",
    "internet_data_label_encoding"
   ]
  },
  {
   "cell_type": "markdown",
   "id": "792034d6",
   "metadata": {},
   "source": [
    "Use One-Hot Encoding to convert the 'Action' feature from categorical to numerical"
   ]
  },
  {
   "cell_type": "code",
   "execution_count": null,
   "id": "6b0135f2",
   "metadata": {},
   "outputs": [],
   "source": [
    "internet_data_one_hot = pd.get_dummies(internet_data2, columns=['Action'])\n",
    "\n",
    "# Calculate Pearson correlation\n",
    "correlation_matrix2 = internet_data_one_hot.corr(method='pearson')\n",
    "correlation_matrix2"
   ]
  },
  {
   "cell_type": "markdown",
   "id": "05850e98",
   "metadata": {},
   "source": [
    "Correlation Matrix Heatmap"
   ]
  },
  {
   "cell_type": "code",
   "execution_count": null,
   "id": "4569ef3a",
   "metadata": {},
   "outputs": [],
   "source": [
    "import seaborn as sns\n",
    "import matplotlib.pyplot as plt\n",
    "\n",
    "# Show heatmap for one-hot encoding correlation matrix\n",
    "plt.figure(figsize=(15, 15))\n",
    "plt.title(\"Correlation Matrix - one-hot encoding version\")\n",
    "sns.heatmap(correlation_matrix2, annot=True, cmap='coolwarm')\n",
    "plt.show()\n",
    "\n",
    "# Show heatmap for label encoding correlation matrix\n",
    "plt.figure(figsize=(15, 15))\n",
    "plt.title(\"Correlation Matrix - label encoding version\")\n",
    "sns.heatmap(correlation_matrix1, annot=True, cmap='coolwarm')\n",
    "plt.show()"
   ]
  },
  {
   "cell_type": "markdown",
   "id": "a41e11df",
   "metadata": {},
   "source": [
    "Verify that 'Bytes' equals 'Bytes Sent' plus 'Bytes Received' so we can eliminate this column.\n",
    "This is necessary so we don't have extra weight in our data based on the Bytes features."
   ]
  },
  {
   "cell_type": "code",
   "execution_count": null,
   "id": "4530871a",
   "metadata": {},
   "outputs": [],
   "source": [
    "internet_data_new = internet_data[['Bytes Sent', 'Bytes Received', 'Bytes']].copy()\n",
    "internet_data_new['Cal Total Bytes'] = internet_data_new['Bytes Sent'] + internet_data_new['Bytes Received']\n",
    "internet_data_new['Valid Bytes'] = internet_data_new['Cal Total Bytes'] == internet_data_new['Bytes']\n",
    "internet_data_new"
   ]
  },
  {
   "cell_type": "markdown",
   "id": "7ef43819",
   "metadata": {},
   "source": [
    "Verify that 'Packets' equals 'Packets Sent' plus 'Packets Sent' so we can eliminate this column.\n",
    "This is necessary so we don't have extra weight in our data based on the Packets features."
   ]
  },
  {
   "cell_type": "code",
   "execution_count": null,
   "id": "0f4fe72f",
   "metadata": {},
   "outputs": [],
   "source": [
    "internet_data_new = internet_data[['Packets Sent', 'Packets Received', 'Packets']].copy()\n",
    "internet_data_new['Cal Total Packets'] = internet_data_new['Packets Sent'] + internet_data_new['Packets Received']\n",
    "internet_data_new['Valid Packets'] = internet_data_new['Cal Total Packets'] == internet_data_new['Packets']\n",
    "internet_data_new"
   ]
  },
  {
   "cell_type": "code",
   "execution_count": null,
   "id": "778d9dec",
   "metadata": {},
   "outputs": [],
   "source": [
    "internet_data = internet_data.drop('Bytes', axis=1)\n",
    "internet_data = internet_data.drop('Packets', axis=1)\n",
    "internet_data"
   ]
  },
  {
   "cell_type": "code",
   "execution_count": null,
   "id": "ac903cd2",
   "metadata": {},
   "outputs": [],
   "source": [
    "correlation_matrix1 = internet_data.corr(method='pearson')\n",
    "import seaborn as sns\n",
    "import matplotlib.pyplot as plt\n",
    "\n",
    "# Show heatmap for one-hot encoding correlation matrix\n",
    "plt.figure(figsize=(15, 15))\n",
    "sns.heatmap(correlation_matrix1, annot=True, cmap='coolwarm')\n",
    "plt.show()"
   ]
  },
  {
   "cell_type": "markdown",
   "id": "bdfb0b2f-46fa-40a3-8127-f59f98ab557f",
   "metadata": {},
   "source": [
    "Plot features that may need to be scaled/normalized"
   ]
  },
  {
   "cell_type": "code",
   "execution_count": null,
   "id": "fb56287d-6515-41b8-b59c-350cfc4738b1",
   "metadata": {},
   "outputs": [],
   "source": [
    "columns_to_plot = ['Bytes Sent', 'Bytes Received']\n",
    "\n",
    "plt.figure(figsize=(15, 6))\n",
    "sns.boxplot(data=internet_data[columns_to_plot])\n",
    "plt.title('Box Plot for Bytes Sent and Bytes Received')\n",
    "plt.show()"
   ]
  },
  {
   "cell_type": "markdown",
   "id": "67f1ae99-51cc-440c-98d8-0b136ea2c158",
   "metadata": {},
   "source": [
    "Implement Standardization and Normalization for Bytes Sent and Bytes Received"
   ]
  },
  {
   "cell_type": "code",
   "execution_count": null,
   "id": "f5973826-bee0-4402-a8c1-3c2b081be555",
   "metadata": {},
   "outputs": [],
   "source": [
    "from sklearn.preprocessing import StandardScaler, MinMaxScaler\n",
    "\n",
    "columns_to_scale = ['Bytes Sent', 'Bytes Received']\n",
    "\n",
    "# 1. Standardization\n",
    "scaler = StandardScaler()\n",
    "standardized_data = scaler.fit_transform(internet_data[columns_to_scale])\n",
    "standardized_df = pd.DataFrame(standardized_data, columns=columns_to_scale)\n",
    "\n",
    "# 2. Normalization\n",
    "normalizer = MinMaxScaler()\n",
    "normalized_data = normalizer.fit_transform(internet_data[columns_to_scale])\n",
    "normalized_df = pd.DataFrame(normalized_data, columns=columns_to_scale)\n",
    "\n",
    "plt.figure(figsize=(15, 6))\n",
    "\n",
    "plt.subplot(1, 2, 1)\n",
    "sns.boxplot(data=standardized_df)\n",
    "plt.title('Standardized Box Plot for Bytes Sent and Bytes Received')\n",
    "\n",
    "plt.subplot(1, 2, 2)\n",
    "sns.boxplot(data=normalized_df)\n",
    "plt.title('Normalized Box Plot for Bytes Sent and Bytes Received')\n",
    "\n",
    "plt.tight_layout()\n",
    "plt.show()"
   ]
  },
  {
   "cell_type": "code",
   "execution_count": null,
   "id": "d28c4a88-5582-4fdc-9598-659a779d36ec",
   "metadata": {},
   "outputs": [],
   "source": [
    "columns_to_plot = ['Packets Sent', 'Packets Received']\n",
    "\n",
    "plt.figure(figsize=(15, 6))\n",
    "sns.boxplot(data=internet_data[columns_to_plot])\n",
    "plt.title('Box Plot for Packets Sent and Packets Received')\n",
    "plt.show()"
   ]
  },
  {
   "cell_type": "markdown",
   "id": "d066263f-4590-4aaa-8b77-7ba16e290877",
   "metadata": {},
   "source": [
    "Implement Standardization for Packets Sent and Packets Received"
   ]
  },
  {
   "cell_type": "code",
   "execution_count": null,
   "id": "35d8bcc4-cdcd-4552-bf09-68a95e770f57",
   "metadata": {},
   "outputs": [],
   "source": [
    "from sklearn.preprocessing import StandardScaler, MinMaxScaler\n",
    "\n",
    "columns_to_scale = ['Packets Sent', 'Packets Received']\n",
    "\n",
    "# 1. Standardization\n",
    "scaler = StandardScaler()\n",
    "standardized_data = scaler.fit_transform(internet_data[columns_to_scale])\n",
    "standardized_df = pd.DataFrame(standardized_data, columns=columns_to_scale)\n",
    "\n",
    "# 2. Normalization\n",
    "normalizer = MinMaxScaler()\n",
    "normalized_data = normalizer.fit_transform(internet_data[columns_to_scale])\n",
    "normalized_df = pd.DataFrame(normalized_data, columns=columns_to_scale)\n",
    "\n",
    "plt.figure(figsize=(15, 6))\n",
    "\n",
    "plt.subplot(1, 2, 1)\n",
    "sns.boxplot(data=standardized_df)\n",
    "plt.title('Standardized Box Plot for Packets Sent and Packets Received')\n",
    "\n",
    "plt.subplot(1, 2, 2)\n",
    "sns.boxplot(data=normalized_df)\n",
    "plt.title('Normalized Box Plot for Packets Sent and Packets Received')\n",
    "\n",
    "plt.tight_layout()\n",
    "plt.show()"
   ]
  },
  {
   "cell_type": "markdown",
   "id": "23230bd3-09ca-45c8-a9d5-828372e2e27f",
   "metadata": {},
   "source": [
    "Perform log transformation on the bytes sent and bytes received"
   ]
  },
  {
   "cell_type": "code",
   "execution_count": null,
   "id": "8ae8bd93-3e41-4cc6-ac2b-20844769a2aa",
   "metadata": {},
   "outputs": [],
   "source": [
    "internet_data_logged_data = internet_data.copy()\n",
    "internet_data_logged_data['Log Bytes Sent'] = np.log1p(internet_data['Bytes Sent'])\n",
    "internet_data_logged_data['Log Bytes Received'] = np.log1p(internet_data['Bytes Received'])\n",
    "\n",
    "log_columns_to_plot = ['Log Bytes Sent', 'Log Bytes Received']\n",
    "\n",
    "plt.figure(figsize=(15,6))\n",
    "sns.boxplot(data=internet_data_logged_data[log_columns_to_plot])\n",
    "plt.title('Box Plot for Log-Transformed Bytes')\n",
    "plt.show()"
   ]
  },
  {
   "cell_type": "markdown",
   "id": "84115806-911f-4560-98c5-31b0b7ded90f",
   "metadata": {},
   "source": [
    "Perform log transformation on packets sent and packets received"
   ]
  },
  {
   "cell_type": "code",
   "execution_count": null,
   "id": "dd01f88d-3d7e-4fac-a989-08fbe2a91b67",
   "metadata": {},
   "outputs": [],
   "source": [
    "internet_data_logged_data['Log Packets Sent'] = np.log1p(internet_data['Packets Sent'])\n",
    "internet_data_logged_data['Log Packets Received'] = np.log1p(internet_data['Packets Received'])\n",
    "\n",
    "log_columns_to_plot = ['Log Packets Sent', 'Log Packets Received']\n",
    "\n",
    "plt.figure(figsize=(15,6))\n",
    "sns.boxplot(data=internet_data_logged_data[log_columns_to_plot])\n",
    "plt.title('Box Plot for Log-Transformed Packets')\n",
    "plt.show()"
   ]
  },
  {
   "cell_type": "markdown",
   "id": "5c7f399f-1889-433c-abee-926a358f0a1f",
   "metadata": {},
   "source": [
    "We notice that there are still outliers after performing a log transofrmation of the bytes sent and bytes received, as well as packets sent and packets received. Since we're analyzing internet traffic data, very large or very small values (in terms of bytes sent/received) might represent legitimate high-usage events or anomalies. Removing or altering these could distort the real insights."
   ]
  },
  {
   "cell_type": "markdown",
   "id": "bb18882d-b50b-40e8-ab82-dff9da69c97d",
   "metadata": {},
   "source": [
    "Plot a normal distribution curve on the logged bytes data for further visualization."
   ]
  },
  {
   "cell_type": "code",
   "execution_count": null,
   "id": "c8ca0814-943c-4ecf-b08a-08f018fab328",
   "metadata": {},
   "outputs": [],
   "source": [
    "from scipy.stats import norm\n",
    "\n",
    "# Fit a normal distribution for the log-transformed 'Bytes Sent'\n",
    "mean_log_sent, std_log_sent = norm.fit(internet_data_logged_data['Log Bytes Sent'])\n",
    "\n",
    "# Fit a normal distribution for the log-transformed 'Bytes Received'\n",
    "mean_log_received, std_log_received = norm.fit(internet_data_logged_data['Log Bytes Received'])\n",
    "\n",
    "# Create a range of values from min to max for the log-transformed data\n",
    "x_log_sent = np.linspace(internet_data_logged_data['Log Bytes Sent'].min(), internet_data_logged_data['Log Bytes Sent'].max(), 100)\n",
    "x_log_received = np.linspace(internet_data_logged_data['Log Bytes Received'].min(), internet_data_logged_data['Log Bytes Received'].max(), 100)\n",
    "\n",
    "# Calculate the PDF for log-transformed data\n",
    "pdf_log_sent = norm.pdf(x_log_sent, mean_log_sent, std_log_sent)\n",
    "pdf_log_received = norm.pdf(x_log_received, mean_log_received, std_log_received)\n",
    "\n",
    "plt.figure(figsize=(15, 6))\n",
    "\n",
    "plt.plot(x_log_sent, pdf_log_sent, label='Fitted Normal - Log Bytes Sent', color='blue')\n",
    "\n",
    "plt.plot(x_log_received, pdf_log_received, label='Fitted Normal - Log Bytes Received', color='orange')\n",
    "\n",
    "plt.title('Normal Distribution Curve for Log-Transformed Bytes Sent and Bytes Received')\n",
    "plt.xlabel('Log Bytes')\n",
    "plt.ylabel('Probability Density')\n",
    "plt.legend()\n",
    "plt.show()"
   ]
  },
  {
   "cell_type": "code",
   "execution_count": null,
   "id": "92417512-ecb8-435d-ab6e-1d1c174ef52f",
   "metadata": {},
   "outputs": [],
   "source": [
    "internet_data_logged_data['Bytes Sent'] = internet_data_logged_data['Log Bytes Sent']\n",
    "internet_data_logged_data.drop(columns=['Log Bytes Sent'], inplace=True)\n",
    "internet_data_logged_data['Bytes Received'] = internet_data_logged_data['Log Bytes Received']\n",
    "internet_data_logged_data.drop(columns=['Log Bytes Received'], inplace=True)\n",
    "internet_data_logged_data['Packets Sent'] = internet_data_logged_data['Log Packets Sent']\n",
    "internet_data_logged_data.drop(columns=['Log Packets Sent'], inplace=True)\n",
    "internet_data_logged_data['Packets Received'] = internet_data_logged_data['Log Packets Received']\n",
    "internet_data_logged_data.drop(columns=['Log Packets Received'], inplace=True)"
   ]
  },
  {
   "cell_type": "code",
   "execution_count": null,
   "id": "6fc66311-f47b-4f1e-ab86-fd80332e9963",
   "metadata": {},
   "outputs": [],
   "source": [
    "internet_data_logged_data"
   ]
  },
  {
   "cell_type": "code",
   "execution_count": null,
   "id": "003ff937-ec7e-41a6-925f-ba67f38a93dd",
   "metadata": {},
   "outputs": [],
   "source": [
    "preprocessed_internet_data=internet_data_logged_data.copy()\n",
    "preprocessed_internet_data.to_csv('preprocessed_internet_data.csv', index=False)"
   ]
  }
 ],
 "metadata": {
  "language_info": {
   "name": "python"
  }
 },
 "nbformat": 4,
 "nbformat_minor": 5
}
