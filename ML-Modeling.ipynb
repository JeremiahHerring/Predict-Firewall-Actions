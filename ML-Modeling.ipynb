{
 "cells": [
  {
   "cell_type": "code",
   "execution_count": null,
   "id": "7ba3eaf9-6e4b-443f-b40d-0462aa5b43b6",
   "metadata": {},
   "outputs": [],
   "source": [
    "# Python ≥3.5 is required\n",
    "import sys\n",
    "assert sys.version_info >= (3, 5)\n",
    "\n",
    "# Scikit-Learn ≥0.20 is required\n",
    "import sklearn\n",
    "assert sklearn.__version__ >= \"0.20\"\n",
    "\n",
    "# Common imports\n",
    "import numpy as np\n",
    "import os\n",
    "\n",
    "import seaborn as sns\n",
    "from scipy import stats\n",
    "\n",
    "# To plot pretty figures\n",
    "%matplotlib inline\n",
    "import matplotlib as mpl\n",
    "import matplotlib.pyplot as plt\n",
    "mpl.rc('axes', labelsize=14)\n",
    "mpl.rc('xtick', labelsize=12)\n",
    "mpl.rc('ytick', labelsize=12)"
   ]
  },
  {
   "cell_type": "code",
   "execution_count": null,
   "id": "f5bedc8b-95a9-4297-b845-e3f92e221679",
   "metadata": {},
   "outputs": [],
   "source": [
    "import pandas as pd\n",
    "\n",
    "internet_data = pd.read_csv('preprocessed_internet_data.csv')\n",
    "\n",
    "internet_data"
   ]
  },
  {
   "cell_type": "markdown",
   "id": "3a4455ac-d5a1-46cc-806e-c78c9a356a55",
   "metadata": {},
   "source": [
    "Implement Linear Regression Preproccessed Data"
   ]
  },
  {
   "cell_type": "markdown",
   "id": "44c4baf6-2052-4df7-884f-82dde3740354",
   "metadata": {},
   "source": [
    "Prepare features and target variable"
   ]
  },
  {
   "cell_type": "code",
   "execution_count": null,
   "id": "233ff0f8-6218-460e-97aa-cf9b8df6e72f",
   "metadata": {},
   "outputs": [],
   "source": [
    "X = internet_data.drop(columns=['Action'])\n",
    "y = internet_data['Action']"
   ]
  },
  {
   "cell_type": "markdown",
   "id": "bdac06ae-3a81-4b66-9a26-f71c44df8b44",
   "metadata": {},
   "source": [
    "Split the data into training and testing sets"
   ]
  },
  {
   "cell_type": "code",
   "execution_count": null,
   "id": "f7916127-9265-4cab-895e-e6ce860a7744",
   "metadata": {},
   "outputs": [],
   "source": [
    "X_train, X_test, y_train, y_test = train_test_split(X, y, test_size=0.3, random_state=42)"
   ]
  },
  {
   "cell_type": "code",
   "execution_count": null,
   "id": "6af5a8a4-ae15-4748-94af-8e2fe1b13eef",
   "metadata": {},
   "outputs": [],
   "source": [
    "from sklearn.model_selection import train_test_split\n",
    "from sklearn.linear_model import LinearRegression\n",
    "import pickle\n",
    "\n",
    "model = LinearRegression()\n",
    "model.fit(X_train, y_train)\n",
    "\n",
    "with open('linear_regression_model.pkl', 'wb') as file:\n",
    "    pickle.dump(model, file)\n",
    "\n",
    "with open('linear_regression_model.pkl', 'rb') as file:\n",
    "    loaded_model = pickle.load(file)\n",
    "\n",
    "y_pred = loaded_model.predict(X_test)\n",
    "\n",
    "score = loaded_model.score(X_test, y_test)\n",
    "print(score)"
   ]
  },
  {
   "cell_type": "markdown",
   "id": "6ff61f31-61ca-4e1b-aa31-b4789ab55c9f",
   "metadata": {},
   "source": [
    "Implement Linear Regression on Original Full Feature Set"
   ]
  },
  {
   "cell_type": "code",
   "execution_count": null,
   "id": "f07c9cb3",
   "metadata": {},
   "outputs": [],
   "source": [
    "original_internet_data = pd.read_csv('internet_data_label_encoding.csv')\n",
    "\n",
    "original_internet_data"
   ]
  },
  {
   "cell_type": "code",
   "execution_count": null,
   "id": "7a7e8a24",
   "metadata": {},
   "outputs": [],
   "source": [
    "original_x = original_internet_data.drop(columns=['Action'])\n",
    "original_y = original_internet_data['Action']"
   ]
  },
  {
   "cell_type": "code",
   "execution_count": null,
   "id": "4dad13f0",
   "metadata": {},
   "outputs": [],
   "source": [
    "original_x_train, original_x_test, original_y_train, original_y_test = train_test_split(original_x, original_y, test_size=0.3, random_state=42)"
   ]
  },
  {
   "cell_type": "code",
   "execution_count": null,
   "id": "8609fca8-184c-463a-8083-368409c955af",
   "metadata": {},
   "outputs": [],
   "source": [
    "from sklearn.model_selection import train_test_split\n",
    "from sklearn.linear_model import LinearRegression\n",
    "\n",
    "model = LinearRegression()\n",
    "model.fit(original_x_train, original_y_train)\n",
    "\n",
    "with open('linear_regression_model.pkl', 'wb') as file:\n",
    "    pickle.dump(model, file)\n",
    "\n",
    "with open('linear_regression_model.pkl', 'rb') as file:\n",
    "    loaded_model = pickle.load(file)\n",
    "\n",
    "y_pred = loaded_model.predict(original_x_test)\n",
    "\n",
    "score = loaded_model.score(original_x_test, original_y_test)\n",
    "print(score)"
   ]
  },
  {
   "cell_type": "markdown",
   "id": "5311b104-6989-46ef-ac26-d1dc89b4503b",
   "metadata": {},
   "source": [
    "We see that our linear regression model accuracy with the preprocessed data is greater than the model accuracy with the original, full feature set, implying that data pre-processing helped improve model accuracy. "
   ]
  }
 ],
 "metadata": {
  "language_info": {
   "name": "python"
  }
 },
 "nbformat": 4,
 "nbformat_minor": 5
}
